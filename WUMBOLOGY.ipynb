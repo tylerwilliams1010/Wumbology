{
  "nbformat": 4,
  "nbformat_minor": 0,
  "metadata": {
    "colab": {
      "name": "WUMBOLOGY",
      "provenance": [],
      "collapsed_sections": [],
      "include_colab_link": true
    },
    "kernelspec": {
      "name": "python3",
      "display_name": "Python 3"
    }
  },
  "cells": [
    {
      "cell_type": "markdown",
      "metadata": {
        "id": "view-in-github",
        "colab_type": "text"
      },
      "source": [
        "<a href=\"https://colab.research.google.com/github/tylerwilliams1010/Wumbology/blob/master/WUMBOLOGY.ipynb\" target=\"_parent\"><img src=\"https://colab.research.google.com/assets/colab-badge.svg\" alt=\"Open In Colab\"/></a>"
      ]
    },
    {
      "cell_type": "code",
      "metadata": {
        "id": "VSr_mvpqJhXL",
        "colab_type": "code",
        "colab": {}
      },
      "source": [
        "import numpy as np\n",
        "from sklearn.datasets import make_blobs\n",
        "import matplotlib.pyplot as plt\n",
        "import pandas as pd"
      ],
      "execution_count": 41,
      "outputs": []
    },
    {
      "cell_type": "code",
      "metadata": {
        "id": "7XpoTyVeJiCb",
        "colab_type": "code",
        "colab": {}
      },
      "source": [
        "import numpy as np\n",
        "from sklearn.datasets import make_blobs\n",
        "import matplotlib.pyplot as plt\n",
        "import pandas as pd\n",
        "\n",
        "#Make Dataset\n",
        "centers = [[0,0], [-1, -1], [1, -1], [0,0.5], [0.4,0.1], [1.5,2], [2,2], [7,6]]\n",
        "X, labels_true = make_blobs(n_samples=1000, centers=centers, cluster_std=0.5,\n",
        "                            random_state=42)\n",
        "#X = np.vstack([X,[0,2.8]])\n",
        "\n",
        "#Make UID's \n",
        "dfblobs = pd.DataFrame(X)\n",
        "dfblobs = dfblobs.reset_index()\n",
        "dfblobs[\"uid\"] = dfblobs.index\n",
        "dfblobs = dfblobs.drop([\"index\"], axis=1)"
      ],
      "execution_count": 42,
      "outputs": []
    },
    {
      "cell_type": "code",
      "metadata": {
        "id": "ysS-Fc6rJmOQ",
        "colab_type": "code",
        "colab": {}
      },
      "source": [
        "# [WUMBO]\n",
        "# Weighted UID-filtered anoMaly-Based Outlier detection\n",
        "import numpy as np\n",
        "import pandas as pd\n",
        "from sklearn.neighbors import NearestNeighbors\n",
        "from sklearn.neighbors import BallTree\n",
        "\n",
        "def calc_dist_and_density(nn_arr, curr_array, kn):\n",
        "  # Calculate Average Distance for k-NN\n",
        "  tree = BallTree(nn_arr)\n",
        "  dist, ind = tree.query(curr_array,k=kn)\n",
        "  avg_dist = np.mean(dist)\n",
        "\n",
        "  # Calculate Inverse Density using Silverman's Rule of Thumb for Bandwidth\n",
        "  h = 0.9 * nn_arr.std() * len(nn_arr) ** (-1/5)\n",
        "  density = tree.kernel_density(X=curr_array, h=h)\n",
        "  density_val = 1/(density[0])\n",
        "  return avg_dist, density_val\n",
        "\n",
        "def filter_uid(df, uid_field, curr_uid):\n",
        "  deduped_array = df[df[uid_field]!=curr_uid].drop([uid_field, \"weight\", \"avg_dist\", \"Total_Z\"], axis=1).to_numpy()\n",
        "  return deduped_array\n",
        "\n",
        "def robust_scaler_Z(df, col, alpha):\n",
        "  min_perc = df[col].quantile(alpha)\n",
        "  max_perc = df[col].quantile(1 - alpha)\n",
        "\n",
        "  temp_df = df.loc[(df[col] > min_perc) & (df[col] < max_perc)]\n",
        "  avg = temp_df[col].mean()\n",
        "  std = temp_df[col].std()\n",
        "\n",
        "  df[\"avg\"] = avg\n",
        "  df[\"std\"] = std\n",
        "\n",
        "  df[\"Z_\" + col] = (df[col] - df[\"avg\"]) / df[\"std\"]\n",
        "  df = df.drop([\"avg\", \"std\"], axis=1)\n",
        "\n",
        "  return df\n",
        "\n",
        "def convert_alpha(alpha):\n",
        "  # Turn alpha value into Z-Score based on Chebyshev's Inequality\n",
        "  # for a one-tailed test\n",
        "  Z = ((alpha * 2) ** -1) ** 0.5 # invert and take square root\n",
        "  return Z\n",
        "\n",
        "def wumbo(dataframe, uid_colname, alpha=0.01):\n",
        "  # [WUMBO] - Weighted UID-filtered anoMaly-Based Outlier detection \n",
        "  ##################################################################\n",
        "  # Wumbo is an anomaly detector designed for large datasets.\n",
        "  # The algorithm requires no hyperparameters to be chosen except\n",
        "  # alpha - starting by filtering out similar identities so that\n",
        "  # one identity can't cluster with itself. Additionally, the\n",
        "  # primary measurements are kernel density and average distance\n",
        "  # from its k-Nearest Neighbors. These metrics are then combined\n",
        "  # and evaluated to determine Outlierness.\n",
        "  ##################################################################\n",
        "\n",
        "\n",
        "\n",
        "  # Initialize a temporary and return dataframe \n",
        "  temp_df = dataframe.copy()\n",
        "  \n",
        "  # Calculate number of k-Neighbors \n",
        "  ##############################################################################\n",
        "  # This is a number that is equal to the square root of distinct count of UID's\n",
        "  # with a minimum of 5 and a maximum of 50.\n",
        "  # The number of k-Neighbors scales with the size of the data\n",
        "  ##############################################################################\n",
        "\n",
        "  kn = min(max(int(len(dataframe[uid_colname].unique()) ** 0.5),5),50)\n",
        "\n",
        "  # Calculate Z\n",
        "  Z = convert_alpha(alpha)\n",
        "\n",
        "  # Initialize additional columns\n",
        "  temp_df[\"weight\"] = 0\n",
        "  temp_df[\"avg_dist\"] = 0\n",
        "  temp_df[\"Total_Z\"] = 0\n",
        "\n",
        "\n",
        "  # Iterate through dataframe\n",
        "  for x in range(len(temp_df.index)):\n",
        "    # Identify current UID Value\n",
        "    curr_uid = temp_df.loc[x,uid_colname]\n",
        "\n",
        "    # Filter out UID's and convert to numpy\n",
        "    deduped_array = filter_uid(df=temp_df, uid_field=uid_colname,curr_uid=curr_uid)\n",
        "\n",
        "    # Identify current array and convert to numpy\n",
        "    curr_array = temp_df.reset_index()\n",
        "    curr_array = curr_array.loc[curr_array[\"index\"]==x].drop([\"index\", uid_colname, \"weight\", \"avg_dist\", \"Total_Z\"],axis=1).to_numpy()\n",
        "\n",
        "    # Find nearest neighbors\n",
        "    neigh = NearestNeighbors(n_neighbors=kn)\n",
        "    neigh.fit(deduped_array)\n",
        "    arr = [x for x in neigh.kneighbors(curr_array)[1][0][:]]\n",
        "    nn_arr = deduped_array[arr,:]\n",
        "\n",
        "    # Update avg_dist/inverse_density for row\n",
        "    avg_dist, inverse_density = calc_dist_and_density(nn_arr=nn_arr, curr_array=curr_array, kn=kn)\n",
        "    temp_df.loc[x, \"avg_dist\"] = avg_dist\n",
        "    temp_df.loc[x, \"weight\"] = inverse_density\n",
        "\n",
        "  # Scale and calculate Z for weight/avg_dist\n",
        "  temp_df = robust_scaler_Z(temp_df, col=\"weight\", alpha=alpha)\n",
        "  temp_df = robust_scaler_Z(temp_df, col=\"avg_dist\", alpha=alpha)\n",
        "\n",
        "  # Transform Z_* fields to remove negatives while removing a multiply by zero issue\n",
        "  temp_df[\"Z_weight\"].apply(lambda x: max(0, x) + 1)\n",
        "  temp_df[\"Z_avg_dist\"].apply(lambda x: max(0, x) + 1)\n",
        "  \n",
        "  # Calculate Weighted Outlier Score\n",
        "  temp_df[\"weighted_outlier_score\"] = temp_df[\"Z_weight\"] * temp_df[\"Z_avg_dist\"]\n",
        "\n",
        "  # Transform weighted_outlier_score with Robust Scaler Z calculation\n",
        "  temp_df[\"Total_Z\"] = robust_scaler_Z(temp_df, col=\"weighted_outlier_score\", alpha=alpha)\n",
        "\n",
        "  # Initialize Outlier column, determine label via Z calculated before\n",
        "  temp_df[\"Outlier\"] = 0\n",
        "  temp_df[\"Outlier\"] = np.where(temp_df[\"weighted_outlier_score\"]>=Z * 2, 1, 0) # Multiplying Z by 2 to solve for bounding issue with the earlier lambda transform\n",
        "\n",
        "  # Return df with only original columns, Z, and Outlier\n",
        "  temp_df = temp_df.drop([\"weight\", \"avg_dist\", \"Total_Z\", \"Z_weight\", \"Z_avg_dist\", \"weighted_outlier_score\", \"avg\", \"std\"], axis=1)\n",
        "\n",
        "  return temp_df\n"
      ],
      "execution_count": 43,
      "outputs": []
    },
    {
      "cell_type": "code",
      "metadata": {
        "id": "m4B-C5YkJ0yb",
        "colab_type": "code",
        "colab": {}
      },
      "source": [
        "# Return Wumbo'd data\n",
        "\n",
        "wumbo_df = wumbo(dataframe=dfblobs, uid_colname=\"uid\", alpha=0.001)"
      ],
      "execution_count": 44,
      "outputs": []
    },
    {
      "cell_type": "code",
      "metadata": {
        "id": "sHXr4w8oJ5Yi",
        "colab_type": "code",
        "colab": {
          "base_uri": "https://localhost:8080/",
          "height": 415
        },
        "outputId": "747f0251-d408-408f-c70b-bbf3317d5faf"
      },
      "source": [
        "wumbo_df"
      ],
      "execution_count": 45,
      "outputs": [
        {
          "output_type": "execute_result",
          "data": {
            "text/html": [
              "<div>\n",
              "<style scoped>\n",
              "    .dataframe tbody tr th:only-of-type {\n",
              "        vertical-align: middle;\n",
              "    }\n",
              "\n",
              "    .dataframe tbody tr th {\n",
              "        vertical-align: top;\n",
              "    }\n",
              "\n",
              "    .dataframe thead th {\n",
              "        text-align: right;\n",
              "    }\n",
              "</style>\n",
              "<table border=\"1\" class=\"dataframe\">\n",
              "  <thead>\n",
              "    <tr style=\"text-align: right;\">\n",
              "      <th></th>\n",
              "      <th>0</th>\n",
              "      <th>1</th>\n",
              "      <th>uid</th>\n",
              "      <th>Z_weighted_outlier_score</th>\n",
              "      <th>Outlier</th>\n",
              "    </tr>\n",
              "  </thead>\n",
              "  <tbody>\n",
              "    <tr>\n",
              "      <th>0</th>\n",
              "      <td>2.012031</td>\n",
              "      <td>2.296263</td>\n",
              "      <td>0</td>\n",
              "      <td>-0.031246</td>\n",
              "      <td>0</td>\n",
              "    </tr>\n",
              "    <tr>\n",
              "      <th>1</th>\n",
              "      <td>2.830630</td>\n",
              "      <td>1.771452</td>\n",
              "      <td>1</td>\n",
              "      <td>-0.040737</td>\n",
              "      <td>0</td>\n",
              "    </tr>\n",
              "    <tr>\n",
              "      <th>2</th>\n",
              "      <td>-0.803742</td>\n",
              "      <td>0.092317</td>\n",
              "      <td>2</td>\n",
              "      <td>-0.035677</td>\n",
              "      <td>0</td>\n",
              "    </tr>\n",
              "    <tr>\n",
              "      <th>3</th>\n",
              "      <td>7.538004</td>\n",
              "      <td>6.010656</td>\n",
              "      <td>3</td>\n",
              "      <td>-0.035428</td>\n",
              "      <td>0</td>\n",
              "    </tr>\n",
              "    <tr>\n",
              "      <th>4</th>\n",
              "      <td>-1.378175</td>\n",
              "      <td>-1.711127</td>\n",
              "      <td>4</td>\n",
              "      <td>-0.040756</td>\n",
              "      <td>0</td>\n",
              "    </tr>\n",
              "    <tr>\n",
              "      <th>...</th>\n",
              "      <td>...</td>\n",
              "      <td>...</td>\n",
              "      <td>...</td>\n",
              "      <td>...</td>\n",
              "      <td>...</td>\n",
              "    </tr>\n",
              "    <tr>\n",
              "      <th>995</th>\n",
              "      <td>-0.040965</td>\n",
              "      <td>-0.151772</td>\n",
              "      <td>995</td>\n",
              "      <td>-0.029174</td>\n",
              "      <td>0</td>\n",
              "    </tr>\n",
              "    <tr>\n",
              "      <th>996</th>\n",
              "      <td>0.260971</td>\n",
              "      <td>0.148492</td>\n",
              "      <td>996</td>\n",
              "      <td>-0.028511</td>\n",
              "      <td>0</td>\n",
              "    </tr>\n",
              "    <tr>\n",
              "      <th>997</th>\n",
              "      <td>0.981183</td>\n",
              "      <td>-0.448349</td>\n",
              "      <td>997</td>\n",
              "      <td>-0.033494</td>\n",
              "      <td>0</td>\n",
              "    </tr>\n",
              "    <tr>\n",
              "      <th>998</th>\n",
              "      <td>6.514172</td>\n",
              "      <td>5.310191</td>\n",
              "      <td>998</td>\n",
              "      <td>-0.041357</td>\n",
              "      <td>0</td>\n",
              "    </tr>\n",
              "    <tr>\n",
              "      <th>999</th>\n",
              "      <td>0.789786</td>\n",
              "      <td>0.238570</td>\n",
              "      <td>999</td>\n",
              "      <td>-0.030346</td>\n",
              "      <td>0</td>\n",
              "    </tr>\n",
              "  </tbody>\n",
              "</table>\n",
              "<p>1000 rows × 5 columns</p>\n",
              "</div>"
            ],
            "text/plain": [
              "            0         1  uid  Z_weighted_outlier_score  Outlier\n",
              "0    2.012031  2.296263    0                 -0.031246        0\n",
              "1    2.830630  1.771452    1                 -0.040737        0\n",
              "2   -0.803742  0.092317    2                 -0.035677        0\n",
              "3    7.538004  6.010656    3                 -0.035428        0\n",
              "4   -1.378175 -1.711127    4                 -0.040756        0\n",
              "..        ...       ...  ...                       ...      ...\n",
              "995 -0.040965 -0.151772  995                 -0.029174        0\n",
              "996  0.260971  0.148492  996                 -0.028511        0\n",
              "997  0.981183 -0.448349  997                 -0.033494        0\n",
              "998  6.514172  5.310191  998                 -0.041357        0\n",
              "999  0.789786  0.238570  999                 -0.030346        0\n",
              "\n",
              "[1000 rows x 5 columns]"
            ]
          },
          "metadata": {
            "tags": []
          },
          "execution_count": 45
        }
      ]
    },
    {
      "cell_type": "code",
      "metadata": {
        "id": "N6xRdhG2KCgf",
        "colab_type": "code",
        "colab": {
          "base_uri": "https://localhost:8080/",
          "height": 285
        },
        "outputId": "cafcb8ec-744d-4f3c-e90c-7aa9da058fe6"
      },
      "source": [
        "plt.scatter(x=wumbo_df[0], y=wumbo_df[1], c=wumbo_df[\"Z_weighted_outlier_score\"])\n"
      ],
      "execution_count": 46,
      "outputs": [
        {
          "output_type": "execute_result",
          "data": {
            "text/plain": [
              "<matplotlib.collections.PathCollection at 0x7f1be5c8b780>"
            ]
          },
          "metadata": {
            "tags": []
          },
          "execution_count": 46
        },
        {
          "output_type": "display_data",
          "data": {
            "image/png": "[encoded data removed]",
            "text/plain": [
              "<Figure size 432x288 with 1 Axes>"
            ]
          },
          "metadata": {
            "tags": [],
            "needs_background": "light"
          }
        }
      ]
    },
    {
      "cell_type": "code",
      "metadata": {
        "id": "MRzLW-NKKJfM",
        "colab_type": "code",
        "colab": {
          "base_uri": "https://localhost:8080/",
          "height": 287
        },
        "outputId": "bca89b48-3518-4f6c-9594-6d2fb08792f5"
      },
      "source": [
        "wumbo_df_outliers = wumbo_df.loc[wumbo_df[\"Outlier\"] == 1]\n",
        "\n",
        "# View Top 1% Outliers\n",
        "plt.scatter(x=wumbo_df_outliers[0], y=wumbo_df_outliers[1])"
      ],
      "execution_count": 47,
      "outputs": [
        {
          "output_type": "execute_result",
          "data": {
            "text/plain": [
              "<matplotlib.collections.PathCollection at 0x7f1be5c63a20>"
            ]
          },
          "metadata": {
            "tags": []
          },
          "execution_count": 47
        },
        {
          "output_type": "display_data",
          "data": {
            "image/png": "[encoded data removed]",
            "text/plain": [
              "<Figure size 432x288 with 1 Axes>"
            ]
          },
          "metadata": {
            "tags": [],
            "needs_background": "light"
          }
        }
      ]
    },
    {
      "cell_type": "code",
      "metadata": {
        "id": "GeBqBzcjuFjW",
        "colab_type": "code",
        "colab": {
          "base_uri": "https://localhost:8080/",
          "height": 69
        },
        "outputId": "76bd7e8f-700c-48c1-cddc-bedff992649f"
      },
      "source": [
        "print(\"Total Rows in Dataset: \" + str(len(wumbo_df)))\n",
        "print(\"Total Outliers: \" + str(len(wumbo_df_outliers)))\n",
        "print(\"Total Percent Outliers: \" + str(int(100*len(wumbo_df_outliers)/len(wumbo_df))) + \"%\")"
      ],
      "execution_count": 48,
      "outputs": [
        {
          "output_type": "stream",
          "text": [
            "Total Rows in Dataset: 1000\n",
            "Total Outliers: 2\n",
            "Total Percent Outliers: 0%\n"
          ],
          "name": "stdout"
        }
      ]
    },
    {
      "cell_type": "code",
      "metadata": {
        "id": "NJrwL1MXYxQv",
        "colab_type": "code",
        "colab": {}
      },
      "source": [
        ""
      ],
      "execution_count": 48,
      "outputs": []
    }
  ]
}